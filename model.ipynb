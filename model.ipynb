{
 "cells": [
  {
   "cell_type": "code",
   "execution_count": 1,
   "id": "8de2159d-9732-469b-bb96-54efdad1f125",
   "metadata": {},
   "outputs": [],
   "source": [
    "import torch\n",
    "import torch.nn as nn\n",
    "import torch.optim as optim\n",
    "import numpy as np\n",
    "import uproot\n",
    "import awkward as ak\n",
    "from sklearn.model_selection import train_test_split\n",
    "from sklearn.preprocessing import StandardScaler"
   ]
  },
  {
   "cell_type": "code",
   "execution_count": 6,
   "id": "45d068cc-fcd7-4669-bd95-35dbd583f167",
   "metadata": {},
   "outputs": [],
   "source": [
    "class RegressionModel(nn.Module):\n",
    "    def __init__(self, input_dim, output_dim):\n",
    "        super(RegressionModel, self).__init__()\n",
    "        self.n_train = 0\n",
    "        self.fc = nn.Sequential(\n",
    "            nn.Linear(input_dim, 100),\n",
    "            nn.ReLU(),\n",
    "            nn.Linear(100, 50),\n",
    "            nn.ReLU(),\n",
    "            nn.Linear(50, output_dim)\n",
    "        )\n",
    "\n",
    "    def forward(self, x):\n",
    "        return self.fc(x)\n"
   ]
  },
  {
   "cell_type": "code",
   "execution_count": 2,
   "id": "08c8e9cd-d069-4b1e-9dc8-e0c5b2ebde4e",
   "metadata": {},
   "outputs": [],
   "source": [
    "def select_CConly(arr):\n",
    "    return np.where(arr == 0)\n",
    "\n",
    "def select_NConly(arr):\n",
    "    return np.where(arr == 1)"
   ]
  },
  {
   "cell_type": "code",
   "execution_count": 7,
   "id": "05208ad7-8ef5-4935-9ddb-8babb3b898be",
   "metadata": {},
   "outputs": [],
   "source": [
    "required_truth_branches = ['ccnc_truth', 'nuPDG_truth',\n",
    "                        'enu_truth', \n",
    "                        'nu_dcosx_truth', 'nu_dcosy_truth', 'nu_dcosz_truth']\n",
    "\n",
    "required_reco_branches = [\n",
    "                        'shwr_length_pandoraShower', \n",
    "                        'shwr_startdcosx_pandoraShower', 'shwr_startdcosy_pandoraShower', 'shwr_startdcosz_pandoraShower', \n",
    "                        'shwr_startx_pandoraShower', 'shwr_starty_pandoraShower', 'shwr_startz_pandoraShower', \n",
    "                        'shwr_totEng_pandoraShower',\n",
    "                        'trkendx_pandoraTrack', 'trkendy_pandoraTrack', 'trkendz_pandoraTrack', \n",
    "                        'trkstartdcosx_pandoraTrack', 'trkstartdcosy_pandoraTrack', 'trkstartdcosz_pandoraTrack', \n",
    "                        'trkstartx_pandoraTrack', 'trkstarty_pandoraTrack', 'trkstartz_pandoraTrack']"
   ]
  },
  {
   "cell_type": "code",
   "execution_count": 8,
   "id": "2caafed3-4ac5-486e-84c9-5912e67f2611",
   "metadata": {},
   "outputs": [],
   "source": [
    "settings = {\n",
    "    \"event_type\": \"CC\", # \"CC\", \"NC\", or \"ALL\"\n",
    "    \"epochs\": 50,\n",
    "    \"batch_size\": 100,\n",
    "    \"loss_function\": nn.MSELoss() # nn.MSELoss() or CustomMSELoss() or CustomL1Loss()\n",
    "}"
   ]
  },
  {
   "cell_type": "code",
   "execution_count": 9,
   "id": "55ffeb6a-1247-414f-b3a4-9a1e43fbb45d",
   "metadata": {},
   "outputs": [
    {
     "name": "stdout",
     "output_type": "stream",
     "text": [
      "(166133, 17) (166133, 4)\n"
     ]
    }
   ],
   "source": [
    "# Open root file, specifically the anatree root tree\n",
    "with uproot.open(\"../../../data/atmsim/anatree_hd_AV_2dot5_random_sum_300k_new.root:analysistree/anatree\") as tree:\n",
    "    # Create empty dictionaries to store branch information in\n",
    "    df_truth = {}\n",
    "    df_reco = {}\n",
    "    # Store all MC related branch-info in the truth dictionary\n",
    "    for branch_name in required_truth_branches: \n",
    "        df_truth[branch_name] = tree[branch_name].array()\n",
    "    # Store all reco related branch-info in the reco dictionary\n",
    "    for branch_name in required_reco_branches:\n",
    "        df_reco[branch_name] = tree[branch_name].array()\n",
    "\n",
    "\n",
    "    for key in required_truth_branches:\n",
    "        df_truth[key] = ak.to_numpy(ak.sum(df_truth[key] * (df_truth[key] != -999), axis=1))\n",
    "    \n",
    "    for key in required_reco_branches:\n",
    "        if key == 'shwr_totEng_pandoraShower' or key == 'shwr_dedx_pandoraShower':\n",
    "            df_reco[key] = ak.to_numpy(ak.sum(ak.sum(df_reco[key] * (df_reco[key] != -999), axis=1), axis=1))\n",
    "        else:\n",
    "            df_reco[key] = ak.to_numpy(ak.sum(df_reco[key] * (df_reco[key] != -999), axis=1))\n",
    "    \n",
    "    if settings[\"event_type\"] == \"CC\":\n",
    "        ana_indices = select_CConly(df_truth['ccnc_truth'])\n",
    "        #ana_indices = np.where(np.logical_and(df_truth['ccnc_truth'] == 0, df_truth['nuPDG_truth'] == 14))[0]\n",
    "    elif settings[\"event_type\"] == \"NC\":\n",
    "        ana_indices = select_NConly(df_truth['ccnc_truth'])\n",
    "    elif settings[\"event_type\"] == \"ALL\":\n",
    "        ana_indices = np.arange(0,len(df_truth['ccnc_truth']))\n",
    "    else:\n",
    "        raise NameError\n",
    "    required_truth_branches_ml = ['enu_truth', 'nu_dcosx_truth', 'nu_dcosy_truth', 'nu_dcosz_truth']\n",
    "    df_truth_values = [df_truth[key][ana_indices] for key in required_truth_branches_ml]\n",
    "    df_reco_values = [df_reco[key][ana_indices] for key in required_reco_branches]\n",
    "    \n",
    "    Y = np.stack(df_truth_values, axis=0).T\n",
    "    X = np.stack(df_reco_values, axis=0).T\n",
    "    \n",
    "    print(X.shape, Y.shape)\n",
    "\n",
    "    X_train, X_test, y_train, y_test = train_test_split(X, Y, test_size=0.2, random_state=42)\n",
    "    scaler = StandardScaler() \n",
    "\n",
    "    # Fit only on training data\n",
    "    scaler.fit(X_train)  \n",
    "    X_train = scaler.transform(X_train) \n",
    "    X_test = scaler.transform(X_test)\n",
    "\n",
    "    try:\n",
    "        import os\n",
    "        os.mkdir(f\"{settings}\")\n",
    "    except FileExistsError:\n",
    "        pass\n",
    "    torch.save(X_test, f\"{settings}/X_test.pt\")\n",
    "    torch.save(y_test, f\"{settings}/y_test.pt\")"
   ]
  },
  {
   "cell_type": "code",
   "execution_count": 10,
   "id": "453953b7-aa25-4a94-877f-9e38cfe1606f",
   "metadata": {},
   "outputs": [
    {
     "name": "stdout",
     "output_type": "stream",
     "text": [
      "Epoch [1/50], Loss: 0.3929, nonimpovement_counter: 0\n",
      "Epoch [2/50], Loss: 0.3031, nonimpovement_counter: 0\n",
      "Epoch [3/50], Loss: 0.3322, nonimpovement_counter: 1\n",
      "Epoch [4/50], Loss: 0.3836, nonimpovement_counter: 2\n",
      "Epoch [5/50], Loss: 0.4625, nonimpovement_counter: 3\n",
      "Epoch [6/50], Loss: 0.4957, nonimpovement_counter: 4\n",
      "Epoch [7/50], Loss: 0.5101, nonimpovement_counter: 5\n",
      "Epoch [8/50], Loss: 0.5270, nonimpovement_counter: 6\n",
      "Epoch [9/50], Loss: 0.5362, nonimpovement_counter: 7\n",
      "Epoch [10/50], Loss: 0.5325, nonimpovement_counter: 8\n",
      "Epoch [11/50], Loss: 0.5182, nonimpovement_counter: 9\n",
      "Epoch [12/50], Loss: 0.5124, nonimpovement_counter: 10\n",
      "Epoch [13/50], Loss: 0.4997, nonimpovement_counter: 11\n",
      "Epoch [14/50], Loss: 0.4804, nonimpovement_counter: 12\n",
      "Epoch [15/50], Loss: 0.4788, nonimpovement_counter: 13\n",
      "Epoch [16/50], Loss: 0.4489, nonimpovement_counter: 14\n",
      "Epoch [17/50], Loss: 0.4324, nonimpovement_counter: 15\n",
      "Epoch [18/50], Loss: 0.4176, nonimpovement_counter: 16\n",
      "Epoch [19/50], Loss: 0.4045, nonimpovement_counter: 17\n",
      "Epoch [20/50], Loss: 0.3880, nonimpovement_counter: 18\n",
      "Epoch [21/50], Loss: 0.3721, nonimpovement_counter: 19\n",
      "No improvement for 10 epochs\n"
     ]
    }
   ],
   "source": [
    "model = RegressionModel(X.shape[1], Y.shape[1])\n",
    "model.n_train = len(y_train)\n",
    "\n",
    "criterion = settings['loss_function']\n",
    "optimizer = optim.Adam(model.parameters(), lr=5e-4)\n",
    "\n",
    "num_epochs = settings['epochs']\n",
    "batch_size = settings['batch_size']\n",
    "\n",
    "best_loss = None\n",
    "nonimprovement_counter = 0\n",
    "for epoch in range(num_epochs):\n",
    "    for i in range(0, len(X_train), batch_size):\n",
    "        inputs = torch.tensor(X_train[i:i+batch_size], dtype=torch.float32)\n",
    "        targets = torch.tensor(y_train[i:i+batch_size], dtype=torch.float32)\n",
    "        #print(targets.shape)\n",
    "        \n",
    "        \n",
    "        outputs = model(inputs)\n",
    "        loss = criterion(outputs, targets)\n",
    "        loss.backward()\n",
    "        optimizer.step()\n",
    "        optimizer.zero_grad()\n",
    "    \n",
    "    if epoch == 0:\n",
    "        best_loss = loss\n",
    "    elif loss < best_loss:\n",
    "        best_loss = loss       \n",
    "        nonimprovement_counter = 0\n",
    "    else:\n",
    "        nonimprovement_counter += 1\n",
    "        pass\n",
    "        \n",
    "    if nonimprovement_counter >= 20:\n",
    "        print(f\"No improvement for 10 epochs\")\n",
    "        break\n",
    "    \n",
    "    print(f'Epoch [{epoch+1}/{num_epochs}], Loss: {loss.item():.4f}, nonimpovement_counter: {nonimprovement_counter}')"
   ]
  },
  {
   "cell_type": "code",
   "execution_count": 11,
   "id": "4ebb2440-0568-4f88-8c22-e2b7f5ed5a42",
   "metadata": {},
   "outputs": [],
   "source": [
    "# Save model parameters\n",
    "torch.save(model, f\"{settings}/model.pt\")"
   ]
  }
 ],
 "metadata": {
  "kernelspec": {
   "display_name": "Python 3 (ipykernel)",
   "language": "python",
   "name": "python3"
  },
  "language_info": {
   "codemirror_mode": {
    "name": "ipython",
    "version": 3
   },
   "file_extension": ".py",
   "mimetype": "text/x-python",
   "name": "python",
   "nbconvert_exporter": "python",
   "pygments_lexer": "ipython3",
   "version": "3.11.8"
  }
 },
 "nbformat": 4,
 "nbformat_minor": 5
}
